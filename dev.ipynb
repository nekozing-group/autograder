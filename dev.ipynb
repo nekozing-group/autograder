{
 "cells": [
  {
   "cell_type": "code",
   "execution_count": 2,
   "metadata": {},
   "outputs": [],
   "source": [
    "import os\n",
    "API_KEY = os.environ.get('PALM_API_KEY')"
   ]
  },
  {
   "cell_type": "code",
   "execution_count": 13,
   "metadata": {},
   "outputs": [],
   "source": [
    "template_str = '''\n",
    "You are a competitive coding coach traing a student.\n",
    "Here's some python code that the student wrote for a code problem, and it failed to pass unit tests. \n",
    "Identify the mistake pattern in the code implentation, and give the student feedback on what went wrong and advice on how to prevent the mistake.\n",
    "If you think there are highlights in the code, feel free to give a compliment, but be sure to point out what went well.\n",
    "\n",
    "There are 2 broad areas of mistake patterns: 1. Misunderstanding the problem, or coming up with the wrong solution, and 2. Implementation (coding) errors.\n",
    "Some possible mistake patterns in coding errors include:\n",
    "off-by-one error, language usage error, confusion of comparison vs assignment, typos\n",
    "\n",
    "A reference implementation is also provided. The student's code is not expected to match exactly to the reference implementation.\n",
    "Respond directly to the student by addressing the student directly as 'You'. \n",
    "\n",
    "Problem: ${PROBLEM}\n",
    "\n",
    "User Code:\n",
    "${CODE}\n",
    "\n",
    "Reference Implementation:\n",
    "${REF}\n",
    "'''"
   ]
  },
  {
   "cell_type": "code",
   "execution_count": null,
   "metadata": {},
   "outputs": [],
   "source": [
    "problem = ''\n",
    "code = ''\n",
    "ref = ''"
   ]
  },
  {
   "cell_type": "code",
   "execution_count": 15,
   "metadata": {},
   "outputs": [],
   "source": [
    "problem = 'Implement the Union Find algorithm.'\n",
    "\n",
    "\n",
    "code = '''\n",
    "class UnionFind:\n",
    "    def __init__(self):\n",
    "        self.d = {}\n",
    "\n",
    "    def union(self, a, b):\n",
    "        self.d[self.find(a)] == self.find(b)\n",
    "    \n",
    "    def find(self, a):\n",
    "        b = self.d.get(a, a)\n",
    "        if b != a:\n",
    "            b = self.find(b)\n",
    "        return b\n",
    "\n",
    "    def is_same(self, a, b):\n",
    "        return self.find(a) == self.find(b)\n",
    "'''.strip()\n",
    "\n",
    "ref = '''\n",
    "class UnionFind:\n",
    "    def __init__(self):\n",
    "        self.d = {}\n",
    "\n",
    "    def union(self, a, b):\n",
    "        self.d[self.find(a)] = self.find(b)\n",
    "    \n",
    "    def find(self, a):\n",
    "        b = self.d.get(a, a)\n",
    "        if b != a:\n",
    "            b = self.find(b)\n",
    "        self.d[a] = b\n",
    "        return b\n",
    "\n",
    "    def is_same(self, a, b):\n",
    "        return self.find(a) == self.find(b)\n",
    "'''.strip()"
   ]
  },
  {
   "cell_type": "code",
   "execution_count": 34,
   "metadata": {},
   "outputs": [],
   "source": [
    "problem = 'Implement binary search that takes in a sorted array of integers and a target integer, and returns the index of the target if target exists in the array.'\n",
    "code = '''\n",
    "def binary_search(input: List[int], target: int) -> List[int]:\n",
    "    def bs(l, r, input, target):\n",
    "        if l >= r:\n",
    "            return -1\n",
    "        mid = (l + r) // 2\n",
    "        if input[mid] == target:\n",
    "            return mid\n",
    "        elif input[mid] <= target:\n",
    "            return bs(mid, r, input, target)\n",
    "        else:\n",
    "            return bs(l, mid-1, input, target)\n",
    "    return bs(0, len(input)-1, input, target)\n",
    "'''\n",
    "ref = '''\n",
    "def binary_search(arr: List[int], target: int) -> int:\n",
    "    start_ptr = 0\n",
    "    end_ptr = len(arr)\n",
    "    \n",
    "    while start_ptr < end_ptr:\n",
    "        mid_ptr = (start_ptr + end_ptr) // 2\n",
    "        if arr[mid_ptr] > target:\n",
    "            end_ptr = mid_ptr\n",
    "        elif arr[mid_ptr] < target:\n",
    "            start_ptr = mid_ptr + 1\n",
    "        else:\n",
    "            return mid_ptr\n",
    "    return -1\n",
    "'''"
   ]
  },
  {
   "cell_type": "code",
   "execution_count": 18,
   "metadata": {},
   "outputs": [],
   "source": [
    "from typing import List\n",
    "\n",
    "def binary_search(input: List[int], target: int) -> List[int]:\n",
    "    def bs(l, r, input, target):\n",
    "        if l > r:\n",
    "            return -1\n",
    "        mid = (l + r) // 2\n",
    "        if input[mid] == target:\n",
    "            return mid\n",
    "        elif input[mid] > target:\n",
    "            return bs(l, mid-1, input, target)\n",
    "        else:\n",
    "            return bs(mid+1, r, input, target)\n",
    "    return bs(0, len(input)-1, input, target)"
   ]
  },
  {
   "cell_type": "code",
   "execution_count": 30,
   "metadata": {},
   "outputs": [
    {
     "data": {
      "text/plain": [
       "-1"
      ]
     },
     "execution_count": 30,
     "metadata": {},
     "output_type": "execute_result"
    }
   ],
   "source": [
    "binary_search(list(range(1)), 1)"
   ]
  },
  {
   "cell_type": "code",
   "execution_count": 35,
   "metadata": {},
   "outputs": [
    {
     "name": "stdout",
     "output_type": "stream",
     "text": [
      "<Response [200]>\n"
     ]
    }
   ],
   "source": [
    "import requests\n",
    "import string\n",
    "\n",
    "t = string.Template(template_str)\n",
    "\n",
    "url = \"https://generativelanguage.googleapis.com/v1beta3/models/text-bison-001:generateText\" \n",
    "\n",
    "payload = {\n",
    "  \"prompt\": {\n",
    "    \"text\": t.safe_substitute({\n",
    "        'PROBLEM': problem,\n",
    "        'CODE': code,\n",
    "        'REF': ref\n",
    "    })\n",
    "  },\n",
    "  \"temperature\": 0.5,\n",
    "  \"candidate_count\": 1\n",
    "}\n",
    "\n",
    "headers = {\n",
    "  'Content-Type': 'application/json'\n",
    "}\n",
    "\n",
    "params = {\n",
    "  'key': API_KEY  \n",
    "}\n",
    "\n",
    "response = requests.post(url, json=payload, headers=headers, params=params)\n",
    "print(response)\n"
   ]
  },
  {
   "cell_type": "code",
   "execution_count": 36,
   "metadata": {},
   "outputs": [
    {
     "data": {
      "text/plain": [
       "{'candidates': [{'output': \"The student's code has a off-by-one error in the bs function.\\nThe return value of bs should be mid+1 if the target is found, but the student's code returns mid.\\nThis is because the condition for returning mid+1 is input[mid] == target, but the condition for returning mid is input[mid] <= target.\",\n",
       "   'safetyRatings': [{'category': 'HARM_CATEGORY_DEROGATORY',\n",
       "     'probability': 'NEGLIGIBLE'},\n",
       "    {'category': 'HARM_CATEGORY_TOXICITY', 'probability': 'NEGLIGIBLE'},\n",
       "    {'category': 'HARM_CATEGORY_VIOLENCE', 'probability': 'NEGLIGIBLE'},\n",
       "    {'category': 'HARM_CATEGORY_SEXUAL', 'probability': 'NEGLIGIBLE'},\n",
       "    {'category': 'HARM_CATEGORY_MEDICAL', 'probability': 'NEGLIGIBLE'},\n",
       "    {'category': 'HARM_CATEGORY_DANGEROUS', 'probability': 'NEGLIGIBLE'}]}]}"
      ]
     },
     "execution_count": 36,
     "metadata": {},
     "output_type": "execute_result"
    }
   ],
   "source": [
    "response.json()"
   ]
  },
  {
   "cell_type": "code",
   "execution_count": 9,
   "metadata": {},
   "outputs": [],
   "source": [
    "import string\n",
    "\n",
    "t = string.Template('${A}')\n",
    "\n",
    "s = t.safe_substitute({'A': 'Test'})"
   ]
  },
  {
   "cell_type": "code",
   "execution_count": 11,
   "metadata": {},
   "outputs": [
    {
     "data": {
      "text/plain": [
       "str"
      ]
     },
     "execution_count": 11,
     "metadata": {},
     "output_type": "execute_result"
    }
   ],
   "source": [
    "type(s)"
   ]
  },
  {
   "cell_type": "code",
   "execution_count": null,
   "metadata": {},
   "outputs": [],
   "source": []
  }
 ],
 "metadata": {
  "kernelspec": {
   "display_name": "autograder",
   "language": "python",
   "name": "python3"
  },
  "language_info": {
   "codemirror_mode": {
    "name": "ipython",
    "version": 3
   },
   "file_extension": ".py",
   "mimetype": "text/x-python",
   "name": "python",
   "nbconvert_exporter": "python",
   "pygments_lexer": "ipython3",
   "version": "3.11.5"
  }
 },
 "nbformat": 4,
 "nbformat_minor": 2
}
